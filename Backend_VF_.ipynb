{
 "cells": [
  {
   "cell_type": "markdown",
   "id": "d3c9825d",
   "metadata": {},
   "source": [
    "## 0- Importation des bibliotheque necessaire"
   ]
  },
  {
   "cell_type": "markdown",
   "id": "e53823a3",
   "metadata": {},
   "source": [
    "#### on va utiliser flask comme un framework de backend et plotly pour la visualization et ..."
   ]
  },
  {
   "cell_type": "code",
   "execution_count": 1,
   "id": "7c937433",
   "metadata": {},
   "outputs": [],
   "source": [
    "from flask import Flask, request, jsonify, session\n",
    "import plotly.graph_objects as go\n",
    "from flask_cors import CORS\n",
    "from itertools import combinations, groupby, islice\n",
    "import networkx as nx\n",
    "import random\n",
    "from math import gamma\n",
    "import numpy as np\n",
    "import csv\n",
    "import threading\n",
    "from concurrent.futures import ThreadPoolExecutor\n",
    "from multiprocessing import Manager\n",
    "from time import time"
   ]
  },
  {
   "cell_type": "code",
   "execution_count": 2,
   "id": "5462c57a",
   "metadata": {},
   "outputs": [
    {
     "data": {
      "text/plain": [
       "<flask_cors.extension.CORS at 0x10678fded10>"
      ]
     },
     "execution_count": 2,
     "metadata": {},
     "output_type": "execute_result"
    }
   ],
   "source": [
    "app = Flask(__name__)\n",
    "CORS(app)"
   ]
  },
  {
   "cell_type": "code",
   "execution_count": 3,
   "id": "86c0a440",
   "metadata": {},
   "outputs": [],
   "source": [
    "def generate_edges(startindex,endindex, n, p,G,pos):\n",
    "    for i in range(startindex,endindex):\n",
    "         for j in range(i+1, n):\n",
    "            distance = ((pos[i][0] - pos[j][0])**2 + (pos[i][1] - pos[j][1])**2)**0.5\n",
    "            if distance <= p:\n",
    "                G.add_edge(i, j, distance=random.randint(1, 10), charge=random.randint(1, 10))\n",
    "                \n",
    "\n",
    "def generate_random_graph_with_threads(n, p,nodes_per_thread=100):\n",
    "    \n",
    "    \"\"\"\n",
    "    Generates a random undirected graph, similarly to an Erdős-Rényi graph, but enforcing that the resulting graph \n",
    "    is connected\n",
    "    \n",
    "    \"\"\"\n",
    "    G = nx.Graph()\n",
    "    G.add_nodes_from(range(n))\n",
    "    pos = {node: (random.random(), random.random()) for node in range(n)}\n",
    "    nx.set_node_attributes(G, pos, 'pos')\n",
    "    if p <= 0:\n",
    "        return G\n",
    "    if p > 1:\n",
    "        return nx.complete_graph(n, create_using=G)\n",
    "    \n",
    "    \n",
    "    nbth = n // nodes_per_thread\n",
    "    if nbth == 0:\n",
    "        nbth = 1\n",
    "    threads = []\n",
    "    for i in range(nbth):\n",
    "        startindex = i * nodes_per_thread\n",
    "        endindex = startindex + nodes_per_thread\n",
    "        if i == nbth - 1:\n",
    "            endindex = n\n",
    "        \n",
    "        th = threading.Thread(target=generate_edges, args=(startindex,endindex, n, p,G,pos))\n",
    "        th.start()\n",
    "        threads.append(th)\n",
    "        \n",
    "    for th in threads:\n",
    "        th.join()\n",
    "        \n",
    "    return G"
   ]
  },
  {
   "cell_type": "code",
   "execution_count": 4,
   "id": "7845a026",
   "metadata": {},
   "outputs": [],
   "source": [
    "def get_fig(G):\n",
    "    edge_x = []\n",
    "    edge_y = []\n",
    "    for edge in G.edges():\n",
    "        x0, y0 = G.nodes[edge[0]]['pos']\n",
    "        x1, y1 = G.nodes[edge[1]]['pos']\n",
    "        edge_x.append(x0)\n",
    "        edge_x.append(x1)\n",
    "        edge_x.append(None)\n",
    "        edge_y.append(y0)\n",
    "        edge_y.append(y1)\n",
    "        edge_y.append(None)\n",
    "\n",
    "    edge_trace = {\n",
    "        'x': edge_x,\n",
    "        'y': edge_y,\n",
    "        'line': {'width': 0.5, 'color': '#888'},\n",
    "        'hoverinfo': 'none',\n",
    "        'mode': 'lines'\n",
    "    }\n",
    "\n",
    "    node_x = []\n",
    "    node_y = []\n",
    "    for node in G.nodes():\n",
    "        x, y = G.nodes[node]['pos']\n",
    "        node_x.append(x)\n",
    "        node_y.append(y)\n",
    "\n",
    "    node_trace = {\n",
    "        'x': node_x,\n",
    "        'y': node_y,\n",
    "        'mode': 'markers',\n",
    "        'hoverinfo': 'text',\n",
    "        'marker': {\n",
    "            'showscale': True,\n",
    "            'colorscale': 'YlGnBu',\n",
    "            'reversescale': True,\n",
    "            'color': [],\n",
    "            'size': 10,\n",
    "            'colorbar': {\n",
    "                'thickness': 15,\n",
    "                'title': 'Node Connections',\n",
    "                'xanchor': 'left',\n",
    "                'titleside': 'right'\n",
    "            },\n",
    "            'line_width': 2\n",
    "        }\n",
    "    }\n",
    "\n",
    "    node_adjacencies = []\n",
    "    node_text = []\n",
    "    i=0\n",
    "    for node, adjacencies in enumerate(G.adjacency()):\n",
    "        node_adjacencies.append(len(adjacencies[1]))\n",
    "        node_text.append('Node Id: '+str(i)+' is of connections: ' + str(len(adjacencies[1])))\n",
    "        i+= 1\n",
    "\n",
    "    node_trace['marker']['color'] = node_adjacencies\n",
    "    node_trace['text'] = node_text\n",
    "\n",
    "#         data = [edge_trace, node_trace]\n",
    "    layout = {\n",
    "        'title': '<br>The Graph Generated',\n",
    "        'titlefont_size': 16,\n",
    "        'showlegend': False,\n",
    "        'hovermode': 'closest',\n",
    "        'margin': {'b': 20, 'l': 5, 'r': 5, 't': 40},\n",
    "        'annotations': [\n",
    "            {'text': \"Choose your Source and Destination then click on Graph Navigator to find the optimal path for them\",\n",
    "             'showarrow': False,\n",
    "             'xref': \"paper\", 'yref': \"paper\",\n",
    "             'x': 0.005, 'y': -0.002}\n",
    "        ],\n",
    "        'xaxis': {'showgrid': False, 'zeroline': False, 'showticklabels': False},\n",
    "        'yaxis': {'showgrid': False, 'zeroline': False, 'showticklabels': False}\n",
    "    }\n",
    "\n",
    "    return {\"edge_trace\": edge_trace,\"node_trace\": node_trace, \"layout\": layout}"
   ]
  },
  {
   "cell_type": "code",
   "execution_count": 5,
   "id": "04fbfe82",
   "metadata": {},
   "outputs": [],
   "source": [
    "def get_fig_with_path(G, best_path_text, best_path_info, path=[]):\n",
    "    edge_x = []\n",
    "    edge_y = []\n",
    "    for edge in G.edges():\n",
    "        x0, y0 = G.nodes[edge[0]]['pos']\n",
    "        x1, y1 = G.nodes[edge[1]]['pos']\n",
    "        edge_x.append(x0)\n",
    "        edge_x.append(x1)\n",
    "        edge_x.append(None)\n",
    "        edge_y.append(y0)\n",
    "        edge_y.append(y1)\n",
    "        edge_y.append(None)\n",
    "\n",
    "    edge_trace = {\n",
    "            'x': edge_x,\n",
    "            'y': edge_y,\n",
    "            'line': {'width': 0.5, 'color': '#888'},\n",
    "            'hoverinfo': 'none',\n",
    "            'mode': 'lines'\n",
    "        }\n",
    "\n",
    "\n",
    "    # Separate the edges based on whether they are in the path or not\n",
    "    edge_sets = [path, list(set(G.edges()) - set(path))]\n",
    "    colors = ['#ff0000', '#888']  # Color for edges in the path and default color\n",
    "\n",
    "    edge_traces = []\n",
    "    for edge_set, c in zip(edge_sets, colors):\n",
    "        edge_x = []\n",
    "        edge_y = []\n",
    "        for edge in edge_set:\n",
    "            x0, y0 = G.nodes[edge[0]]['pos']\n",
    "            x1, y1 = G.nodes[edge[1]]['pos']\n",
    "            edge_x.append(x0)\n",
    "            edge_x.append(x1)\n",
    "            edge_x.append(None)\n",
    "            edge_y.append(y0)\n",
    "            edge_y.append(y1)\n",
    "            edge_y.append(None)\n",
    "\n",
    "        edge_traces.append({\n",
    "            'x': edge_x, \n",
    "            'y': edge_y,\n",
    "            'line':  {'width':0.5, 'color':c},\n",
    "            'hoverinfo': 'none',\n",
    "            'mode': 'lines'})\n",
    "\n",
    "    node_x = []\n",
    "    node_y = []\n",
    "    for node in G.nodes():\n",
    "        x, y = G.nodes[node]['pos']\n",
    "        node_x.append(x)\n",
    "        node_y.append(y)\n",
    "\n",
    "    node_trace = {\n",
    "        'x': node_x,\n",
    "        'y': node_y,\n",
    "        'mode': 'markers',\n",
    "        'hoverinfo': 'text',\n",
    "        'marker': {\n",
    "            'showscale': True,\n",
    "            'colorscale': 'YlGnBu',\n",
    "            'reversescale': True,\n",
    "            'color': [],\n",
    "            'size': 10,\n",
    "            'colorbar': {\n",
    "                'thickness': 15,\n",
    "                'title': 'Node Connections',\n",
    "                'xanchor': 'left',\n",
    "                'titleside': 'right'\n",
    "            },\n",
    "            'line_width': 2\n",
    "        }\n",
    "    }\n",
    "\n",
    "    node_adjacencies = []\n",
    "    node_text = []\n",
    "    i = 0\n",
    "    for node, adjacencies in enumerate(G.adjacency()):\n",
    "        node_adjacencies.append(len(adjacencies[1]))\n",
    "        node_text.append('Node Id: '+str(i)+' is of connections: ' + str(len(adjacencies[1])))\n",
    "        i += 1\n",
    "\n",
    "    node_trace['marker']['color'] = node_adjacencies\n",
    "    node_trace['text'] = node_text\n",
    "\n",
    "#         data = [edge_trace, node_trace]\n",
    "    layout = {\n",
    "        'title': best_path_info,\n",
    "        'titlefont_size': 16,\n",
    "        'showlegend': False,\n",
    "        'hovermode': 'closest',\n",
    "        'margin': {'b': 20, 'l': 5, 'r': 5, 't': 40},\n",
    "        'annotations': [\n",
    "            {'text': best_path_text,\n",
    "             'showarrow': False,\n",
    "             'xref': \"paper\", 'yref': \"paper\",\n",
    "             'x': 0.005, 'y': -0.002}\n",
    "        ],\n",
    "        'xaxis': {'showgrid': False, 'zeroline': False, 'showticklabels': False},\n",
    "        'yaxis': {'showgrid': False, 'zeroline': False, 'showticklabels': False}\n",
    "    }\n",
    "    \n",
    "#     data = edge_traces + [node_trace]\n",
    "\n",
    "    return {\"data\": edge_traces + [node_trace], \"layout\": layout}"
   ]
  },
  {
   "cell_type": "markdown",
   "id": "2251455f",
   "metadata": {},
   "source": [
    "### Normalize Graph"
   ]
  },
  {
   "cell_type": "code",
   "execution_count": 6,
   "id": "2370e61f",
   "metadata": {},
   "outputs": [],
   "source": [
    "def find_max_distance(edges):\n",
    "    if not edges:\n",
    "        return 0\n",
    "    max_distance = max(data['distance'] for _, _, data in edges)\n",
    "    return max_distance\n",
    "\n",
    "def find_max_charge(edges):\n",
    "    if not edges:\n",
    "        return 0\n",
    "    max_charge = max(data['charge'] for _, _, data in edges)\n",
    "    return max_charge\n",
    "\n",
    "def normalized_graph_edges(list_of_edges , max_distance , max_charge , startindex , endindex):\n",
    "    for i in range(startindex , endindex):\n",
    "        list_of_edges[i][2]['distance'] = round(list_of_edges[i][2]['distance'] / max_distance, 4)\n",
    "        list_of_edges[i][2]['charge'] = round(list_of_edges[i][2]['charge'] / max_charge, 4)\n",
    "    \n",
    "def normalize_graph_attributes(G,edges_per_thread=150 ):\n",
    "    normalized_graph = G.copy()\n",
    "    \n",
    "    with ThreadPoolExecutor() as executor:\n",
    "        future_distances = executor.submit(find_max_distance, G.edges(data=True))\n",
    "        future_charges = executor.submit(find_max_charge, G.edges(data=True))\n",
    "    \n",
    "    max_distance = future_distances.result()\n",
    "    max_charge = future_charges.result()\n",
    "    \n",
    "    list_of_edges = list(normalized_graph.edges(data=True))\n",
    "    \n",
    "    num_edges = len(list_of_edges)\n",
    "    nbth = num_edges // edges_per_thread \n",
    "    if nbth == 0:\n",
    "        nbth = 1\n",
    "    threads = []\n",
    "    for i in range(nbth):\n",
    "        \n",
    "        startindex = i * edges_per_thread \n",
    "        endindex = startindex + edges_per_thread \n",
    "        if i == nbth - 1:\n",
    "            endindex = num_edges\n",
    "        th = threading.Thread(target=normalized_graph_edges, args=(list_of_edges , max_distance , max_charge,\n",
    "                                                                   startindex,endindex))\n",
    "        th.start()\n",
    "        threads.append(th)\n",
    "        \n",
    "    for th in threads:\n",
    "        th.join()\n",
    "        \n",
    "    new_normalized_graph = nx.Graph()    \n",
    "    new_normalized_graph.add_edges_from(list_of_edges)\n",
    "    return new_normalized_graph  "
   ]
  },
  {
   "cell_type": "markdown",
   "id": "d3ad38fc",
   "metadata": {},
   "source": [
    "### Save graph information"
   ]
  },
  {
   "cell_type": "code",
   "execution_count": 7,
   "id": "8a0122c5",
   "metadata": {},
   "outputs": [],
   "source": [
    "def write_edge_info(list_of_edges , writer,startindex,endindex):\n",
    "    for i in range(startindex,endindex):\n",
    "        writer.writerow({'source': list_of_edges[i][0], 'target': list_of_edges[i][1], \n",
    "                         'distance': list_of_edges[i][2]['distance'], 'charge': list_of_edges[i][2]['charge']})\n",
    "    \n",
    "def save_graph_info(G,edges_per_thread=150 ):  \n",
    "    edges_file = \"graph_info.csv\"\n",
    "    with open(edges_file, 'w', newline='') as csvfile:\n",
    "        fieldnames = ['source', 'target', 'distance', 'charge']\n",
    "        writer = csv.DictWriter(csvfile, fieldnames=fieldnames)\n",
    "\n",
    "        writer.writeheader()\n",
    "        \n",
    "        list_of_edges = list(G.edges(data=True))\n",
    "        \n",
    "        num_edges = len(list_of_edges)\n",
    "        nbth = num_edges // edges_per_thread \n",
    "        if nbth == 0:\n",
    "            nbth = 1\n",
    "        threads = []\n",
    "        for i in range(nbth):\n",
    "            \n",
    "            startindex = i * edges_per_thread \n",
    "            endindex = startindex + edges_per_thread \n",
    "            if i == nbth - 1:\n",
    "                endindex = num_edges\n",
    "                \n",
    "            th = threading.Thread(target=write_edge_info, args=(list_of_edges , writer,startindex,endindex))\n",
    "            th.start()\n",
    "            threads.append(th)\n",
    "            \n",
    "        for th in threads:\n",
    "            th.join()"
   ]
  },
  {
   "cell_type": "markdown",
   "id": "e9ad44de",
   "metadata": {},
   "source": [
    "### Cuckoo search algorithm"
   ]
  },
  {
   "cell_type": "code",
   "execution_count": 8,
   "id": "255b6e09",
   "metadata": {},
   "outputs": [],
   "source": [
    "def calculate_total_distance(graph, path):\n",
    "        total_distance = 0\n",
    "        for i in range(len(path) - 1):\n",
    "            source_node = path[i]\n",
    "            target_node = path[i + 1]\n",
    "            total_distance += graph[source_node][target_node]['distance']\n",
    "        \n",
    "        return total_distance \n",
    "                             \n",
    "def calculate_total_charge(graph, path):\n",
    "        total_charge = 0\n",
    "        for i in range(len(path) - 1):\n",
    "            source_node = path[i]\n",
    "            target_node = path[i + 1]\n",
    "            total_charge += graph[source_node][target_node]['charge']\n",
    "        \n",
    "        return total_charge \n",
    "                             \n",
    "\n",
    "def evaluate_fitness(graph, path):\n",
    "    \n",
    "    with ThreadPoolExecutor() as executor:\n",
    "        future_distances = executor.submit(calculate_total_distance, graph,path)\n",
    "        future_charges = executor.submit(calculate_total_charge, graph,path)\n",
    "    \n",
    "    total_distance  = future_distances.result()\n",
    "    total_charge = future_charges.result()\n",
    "    \n",
    "                                          \n",
    "    return total_distance + total_charge\n",
    "\n",
    "\n",
    "def k_shortest_paths(G, source, target, k, weight=None):\n",
    "    try :\n",
    "        return list(\n",
    "        islice(nx.shortest_simple_paths(G, source, target, weight=weight), k)\n",
    "        )\n",
    "    except nx.NetworkXNoPath: # If no path exists\n",
    "            return [()]  \n",
    "\n",
    "def cuckoo_generation(graph,population,not_used_population,n,Pa,shared_best_paths,startindex,endindex):\n",
    "    for i in range(startindex , endindex) :\n",
    "        \n",
    "        # Evaluate fitness for each cuckoo's path\n",
    "        fitness_list = [evaluate_fitness(graph, path) for path in population]\n",
    "\n",
    "        # Find the index of the best cuckoo\n",
    "        best_cuckoo_index = np.argmin(fitness_list)\n",
    "        best_path = population[best_cuckoo_index]\n",
    "        best_fitness = fitness_list[best_cuckoo_index]\n",
    "\n",
    "            \n",
    "        if not_used_population :\n",
    "            # here we will generate a new cuckoo solution (egg)\n",
    "            new_cuckoo = random.choice(not_used_population)\n",
    "            \n",
    "            # calculate the fitness of the new slution\n",
    "            new_cuckoo_fitness = evaluate_fitness(graph, new_cuckoo)\n",
    "            \n",
    "            # Choose a nest randomly ( a nest is a random possible solution from the population )\n",
    "            random_nest_index = random.randint(0, n - 1)\n",
    "\n",
    "            # compare the fitness value of the new cuckoo egg and the randomly selected eg of the nest. then replace the solution if the new one is better\n",
    "            if new_cuckoo_fitness < fitness_list[random_nest_index]:\n",
    "                population[random_nest_index] = new_cuckoo\n",
    "                not_used_population.remove(new_cuckoo)\n",
    "\n",
    "            # In case we have an increased number of eggs in the nest, abandon a fraction Pa of worst nests. this is to mimic the fact that there is a probability of Pa for the host ird to figure out the cuckoo egg.\n",
    "            if len(population) > n:\n",
    "                num_to_abandon = int(Pa * n)\n",
    "                indices_to_abandon = np.argpartition(fitness_list, num_to_abandon)[:num_to_abandon]\n",
    "                for index in indices_to_abandon:\n",
    "                    population[index] = random.choice(not_used_population)\n",
    "                    \n",
    "        # Update shared list value with latest best path\n",
    "        shared_best_paths[0] = best_path\n",
    "\n",
    "def cuckoo_search(graph, source, target, population_size=50, generations=300, Pa=0.25,iterations_per_thread=100):\n",
    "    \n",
    "    start_time = time ()\n",
    "\n",
    "    # nbr of solution we are going to work with\n",
    "    n = population_size\n",
    "    max_iterations = generations\n",
    "    # the number of solution we will use\n",
    "    nbr_population = generations * 3\n",
    "\n",
    "    all_population = k_shortest_paths(G, source, target, nbr_population)\n",
    "    if( all_population == [()]):\n",
    "        end_time = time()\n",
    "        return [()],[] , end_time-start_time\n",
    "\n",
    "\n",
    "    # we will work with 50 possible solution\n",
    "    population = all_population[:n]\n",
    "    # the rest of the possible solutions we will work with them by generating new solutions from them.\n",
    "    not_used_population = all_population[n:]\n",
    "\n",
    "    best_path = None\n",
    "    best_fitness = float('-inf')\n",
    "\n",
    "    threads = []\n",
    "    manager = Manager()\n",
    "    shared_best_paths = manager.list([None])\n",
    "    \n",
    "    nbth = max_iterations // iterations_per_thread\n",
    "    if nbth == 0:\n",
    "        nbth = 1\n",
    "    for i in range(nbth):\n",
    "        \n",
    "        startindex = i * iterations_per_thread\n",
    "        endindex = startindex + iterations_per_thread\n",
    "        if i == nbth - 1:\n",
    "            endindex = max_iterations\n",
    "        th = threading.Thread(target=cuckoo_generation, args=(graph,population,not_used_population,n,Pa,shared_best_paths,\n",
    "                                                             startindex , endindex))\n",
    "        th.start()\n",
    "        threads.append(th)\n",
    "        \n",
    "    for th in threads:\n",
    "        th.join()\n",
    "        \n",
    "    # get the last best_path found\n",
    "    best_path = shared_best_paths[0]   \n",
    "\n",
    "    # Convert the best path to a list of edge tuples\n",
    "    best_path_edges = [(best_path[i], best_path[i + 1]) for i in range(len(best_path) - 1)]\n",
    "    \n",
    "    end_time = time()\n",
    "    execution_time = end_time-start_time\n",
    "    return best_path_edges , best_path , execution_time"
   ]
  },
  {
   "cell_type": "markdown",
   "id": "3107a81c",
   "metadata": {},
   "source": [
    "### Threads configuration"
   ]
  },
  {
   "cell_type": "code",
   "execution_count": 9,
   "id": "369afa58",
   "metadata": {},
   "outputs": [],
   "source": [
    "#set the number of nodes per thread to 100\n",
    "nodes_per_thread = 100 \n",
    "#set the number of edges per thread to 200\n",
    "edges_per_thread = 200 \n",
    "#set the number of iterations per thread to 100\n",
    "iterations_per_thread = 100\n",
    "# the probability of nodes being connected\n",
    "probability = 0.1\n",
    "\n",
    "G = None "
   ]
  },
  {
   "cell_type": "code",
   "execution_count": 10,
   "id": "e3853b18",
   "metadata": {},
   "outputs": [],
   "source": [
    "@app.route('/get_graph', methods=['POST'])\n",
    "def get_graph_api():\n",
    "    \n",
    "    data = request.get_json()\n",
    "    \n",
    "    nodes = int(data)\n",
    "\n",
    "    global G\n",
    "    G = generate_random_graph_with_threads(nodes, probability)\n",
    "    \n",
    "    fig_data = get_fig(G)\n",
    "    \n",
    "    return jsonify(fig_data)\n",
    "\n",
    "@app.route('/get_graph_with_path', methods=['POST'])\n",
    "def get_graph_path_api():\n",
    "    \n",
    "    data = request.get_json()\n",
    "    \n",
    "    source = data.get('source', None)\n",
    "    destination = data.get('destination', None)\n",
    "\n",
    "    if source is not None and destination is not None:\n",
    "        source_node = int(source)\n",
    "        target_node = int(destination)\n",
    "        \n",
    "        global G\n",
    "        \n",
    "        if G == None:\n",
    "            return jsonify({\"path_exist\": 0, \"path_data\": \"Please generate a graph first!!\"})\n",
    "        \n",
    "        normlized_graph = normalize_graph_attributes(G)\n",
    "        best_pathtuple ,best_path , execution_time = cuckoo_search(normlized_graph, source_node, target_node,iterations_per_thread)\n",
    "        \n",
    "        if(best_path != []):\n",
    "            print(\"############################################## Best path ##############################################\")\n",
    "            print(best_pathtuple)\n",
    "            total_distance = calculate_total_distance(G, best_path)\n",
    "            total_charge = calculate_total_charge(G, best_path)\n",
    "            print(\"Total distance : \", total_distance)\n",
    "            print(\"Total charge : \", total_charge)\n",
    "            best_path_text = f'<br>Best Path from Node ID: {source_node} to Node ID: {target_node} is {best_path}. Total distance is = {total_distance} and consumed charge is = {total_charge}.'\n",
    "            best_path_info = f'Execution Time of the Algorithm is: {execution_time:.4f} seconds.'\n",
    "\n",
    "            fig_data_with_path = get_fig_with_path(G, best_path_text, best_path_info, best_pathtuple)\n",
    "\n",
    "            return jsonify({\"path_exist\": 1, \"path_data\": fig_data_with_path})\n",
    "        else :\n",
    "            no_path_message = f'There is no path between  {source_node} and {target_node}'\n",
    "            print(no_path_message)\n",
    "            return jsonify({\"path_exist\": 0, \"path_data\": no_path_message})\n",
    "            \n",
    "\n",
    "        print(\"The execution time of the research phase is {:.4f} seconds\".format(execution_time))\n",
    "        \n",
    "#         best_path_text = f'<br>Best Path from Node ID: {source_node} to Node ID: {target_node} is {best_path}. Total distance is = {total_distance} and consumed charge is = {total_charge}.'\n",
    "#         best_path_info = f'Execution Time of the Algorithm is: {execution_time:.4f} seconds.'\n",
    "        \n",
    "#         fig_data_with_path = get_fig_with_path(G, best_path_text, best_path_info, best_pathtuple)\n",
    "            \n",
    "#         return jsonify(fig_data_with_path)\n",
    "    else:\n",
    "        return jsonify({'error': 'Source and destination must be provided as integers.'}), 400"
   ]
  },
  {
   "cell_type": "code",
   "execution_count": null,
   "id": "ae345adb",
   "metadata": {},
   "outputs": [
    {
     "name": "stdout",
     "output_type": "stream",
     "text": [
      " * Serving Flask app '__main__'\n",
      " * Debug mode: off\n"
     ]
    },
    {
     "name": "stderr",
     "output_type": "stream",
     "text": [
      "WARNING: This is a development server. Do not use it in a production deployment. Use a production WSGI server instead.\n",
      " * Running on http://127.0.0.1:5200\n",
      "Press CTRL+C to quit\n",
      "127.0.0.1 - - [26/Jan/2024 18:42:23] \"OPTIONS /get_graph HTTP/1.1\" 200 -\n",
      "127.0.0.1 - - [26/Jan/2024 18:42:23] \"POST /get_graph HTTP/1.1\" 200 -\n",
      "127.0.0.1 - - [26/Jan/2024 18:49:39] \"OPTIONS /get_graph HTTP/1.1\" 200 -\n",
      "127.0.0.1 - - [26/Jan/2024 18:49:40] \"POST /get_graph HTTP/1.1\" 200 -\n",
      "127.0.0.1 - - [26/Jan/2024 18:51:00] \"OPTIONS /get_graph_with_path HTTP/1.1\" 200 -\n",
      "[2024-01-26 18:51:00,732] ERROR in app: Exception on /get_graph_with_path [POST]\n",
      "Traceback (most recent call last):\n",
      "  File \"C:\\Users\\fouad\\Desktop\\Github Projects\\Chatbot for Real Estate Price Prediction\\github_env\\lib\\site-packages\\flask\\app.py\", line 1455, in wsgi_app\n",
      "    response = self.full_dispatch_request()\n",
      "  File \"C:\\Users\\fouad\\Desktop\\Github Projects\\Chatbot for Real Estate Price Prediction\\github_env\\lib\\site-packages\\flask\\app.py\", line 869, in full_dispatch_request\n",
      "    rv = self.handle_user_exception(e)\n",
      "  File \"C:\\Users\\fouad\\Desktop\\Github Projects\\Chatbot for Real Estate Price Prediction\\github_env\\lib\\site-packages\\flask_cors\\extension.py\", line 176, in wrapped_function\n",
      "    return cors_after_request(app.make_response(f(*args, **kwargs)))\n",
      "  File \"C:\\Users\\fouad\\Desktop\\Github Projects\\Chatbot for Real Estate Price Prediction\\github_env\\lib\\site-packages\\flask\\app.py\", line 867, in full_dispatch_request\n",
      "    rv = self.dispatch_request()\n",
      "  File \"C:\\Users\\fouad\\Desktop\\Github Projects\\Chatbot for Real Estate Price Prediction\\github_env\\lib\\site-packages\\flask\\app.py\", line 852, in dispatch_request\n",
      "    return self.ensure_sync(self.view_functions[rule.endpoint])(**view_args)\n",
      "  File \"C:\\Users\\fouad\\AppData\\Local\\Temp\\ipykernel_10416\\2310974009.py\", line 33, in get_graph_path_api\n",
      "    best_pathtuple ,best_path , execution_time = cuckoo_search(normlized_graph, source_node, target_node,iterations_per_thread)\n",
      "  File \"C:\\Users\\fouad\\AppData\\Local\\Temp\\ipykernel_10416\\4093617145.py\", line 88, in cuckoo_search\n",
      "    all_population = k_shortest_paths(G, source, target, nbr_population)\n",
      "  File \"C:\\Users\\fouad\\AppData\\Local\\Temp\\ipykernel_10416\\4093617145.py\", line 35, in k_shortest_paths\n",
      "    return list(\n",
      "  File \"C:\\Users\\fouad\\Desktop\\Github Projects\\Chatbot for Real Estate Price Prediction\\github_env\\lib\\site-packages\\networkx\\algorithms\\simple_paths.py\", line 538, in shortest_simple_paths\n",
      "    raise nx.NodeNotFound(f\"target node {target} not in graph\")\n",
      "networkx.exception.NodeNotFound: target node 250 not in graph\n",
      "127.0.0.1 - - [26/Jan/2024 18:51:00] \"POST /get_graph_with_path HTTP/1.1\" 500 -\n",
      "127.0.0.1 - - [26/Jan/2024 19:06:33] \"OPTIONS /get_graph HTTP/1.1\" 200 -\n",
      "127.0.0.1 - - [26/Jan/2024 19:06:33] \"POST /get_graph HTTP/1.1\" 200 -\n",
      "127.0.0.1 - - [26/Jan/2024 19:11:18] \"OPTIONS /get_graph HTTP/1.1\" 200 -\n",
      "127.0.0.1 - - [26/Jan/2024 19:11:18] \"POST /get_graph HTTP/1.1\" 200 -\n",
      "127.0.0.1 - - [26/Jan/2024 19:12:13] \"OPTIONS /get_graph HTTP/1.1\" 200 -\n",
      "127.0.0.1 - - [26/Jan/2024 19:12:13] \"POST /get_graph HTTP/1.1\" 200 -\n",
      "127.0.0.1 - - [26/Jan/2024 19:12:52] \"OPTIONS /get_graph_with_path HTTP/1.1\" 200 -\n",
      "127.0.0.1 - - [26/Jan/2024 19:13:13] \"POST /get_graph_with_path HTTP/1.1\" 200 -\n"
     ]
    },
    {
     "name": "stdout",
     "output_type": "stream",
     "text": [
      "############################################## Best path ##############################################\n",
      "[(65, 25), (25, 113), (113, 99), (99, 131), (131, 69), (69, 133), (133, 170), (170, 135), (135, 34), (34, 58), (58, 110), (110, 137), (137, 23), (23, 62), (62, 199)]\n",
      "Total distance :  66\n",
      "Total charge :  71\n"
     ]
    },
    {
     "name": "stderr",
     "output_type": "stream",
     "text": [
      "127.0.0.1 - - [26/Jan/2024 19:20:24] \"OPTIONS /get_graph HTTP/1.1\" 200 -\n",
      "127.0.0.1 - - [26/Jan/2024 19:20:25] \"POST /get_graph HTTP/1.1\" 200 -\n",
      "127.0.0.1 - - [26/Jan/2024 19:20:58] \"OPTIONS /get_graph HTTP/1.1\" 200 -\n",
      "127.0.0.1 - - [26/Jan/2024 19:20:58] \"POST /get_graph HTTP/1.1\" 200 -\n",
      "127.0.0.1 - - [26/Jan/2024 19:21:18] \"OPTIONS /get_graph HTTP/1.1\" 200 -\n",
      "127.0.0.1 - - [26/Jan/2024 19:21:19] \"POST /get_graph HTTP/1.1\" 200 -\n",
      "127.0.0.1 - - [26/Jan/2024 19:22:24] \"OPTIONS /get_graph HTTP/1.1\" 200 -\n",
      "127.0.0.1 - - [26/Jan/2024 19:22:25] \"POST /get_graph HTTP/1.1\" 200 -\n",
      "127.0.0.1 - - [26/Jan/2024 19:22:42] \"OPTIONS /get_graph HTTP/1.1\" 200 -\n",
      "127.0.0.1 - - [26/Jan/2024 19:22:43] \"POST /get_graph HTTP/1.1\" 200 -\n",
      "127.0.0.1 - - [26/Jan/2024 19:22:56] \"OPTIONS /get_graph_with_path HTTP/1.1\" 200 -\n",
      "127.0.0.1 - - [26/Jan/2024 19:22:57] \"POST /get_graph_with_path HTTP/1.1\" 200 -\n"
     ]
    },
    {
     "name": "stdout",
     "output_type": "stream",
     "text": [
      "There is no path between  97 and 59\n"
     ]
    },
    {
     "name": "stderr",
     "output_type": "stream",
     "text": [
      "127.0.0.1 - - [26/Jan/2024 19:23:13] \"OPTIONS /get_graph_with_path HTTP/1.1\" 200 -\n",
      "127.0.0.1 - - [26/Jan/2024 19:23:13] \"POST /get_graph_with_path HTTP/1.1\" 200 -\n"
     ]
    },
    {
     "name": "stdout",
     "output_type": "stream",
     "text": [
      "There is no path between  97 and 59\n"
     ]
    },
    {
     "name": "stderr",
     "output_type": "stream",
     "text": [
      "127.0.0.1 - - [26/Jan/2024 19:24:30] \"OPTIONS /get_graph HTTP/1.1\" 200 -\n",
      "127.0.0.1 - - [26/Jan/2024 19:24:30] \"POST /get_graph HTTP/1.1\" 200 -\n",
      "127.0.0.1 - - [26/Jan/2024 19:24:40] \"OPTIONS /get_graph_with_path HTTP/1.1\" 200 -\n",
      "127.0.0.1 - - [26/Jan/2024 19:24:40] \"POST /get_graph_with_path HTTP/1.1\" 200 -\n"
     ]
    },
    {
     "name": "stdout",
     "output_type": "stream",
     "text": [
      "There is no path between  49 and 193\n"
     ]
    },
    {
     "name": "stderr",
     "output_type": "stream",
     "text": [
      "127.0.0.1 - - [26/Jan/2024 19:25:12] \"OPTIONS /get_graph HTTP/1.1\" 200 -\n",
      "127.0.0.1 - - [26/Jan/2024 19:25:12] \"POST /get_graph HTTP/1.1\" 200 -\n",
      "127.0.0.1 - - [26/Jan/2024 19:25:41] \"OPTIONS /get_graph_with_path HTTP/1.1\" 200 -\n",
      "127.0.0.1 - - [26/Jan/2024 19:25:41] \"POST /get_graph_with_path HTTP/1.1\" 200 -\n"
     ]
    },
    {
     "name": "stdout",
     "output_type": "stream",
     "text": [
      "There is no path between  1 and 121\n"
     ]
    },
    {
     "name": "stderr",
     "output_type": "stream",
     "text": [
      "127.0.0.1 - - [26/Jan/2024 19:26:15] \"OPTIONS /get_graph HTTP/1.1\" 200 -\n",
      "127.0.0.1 - - [26/Jan/2024 19:26:15] \"POST /get_graph HTTP/1.1\" 200 -\n",
      "127.0.0.1 - - [26/Jan/2024 19:26:26] \"OPTIONS /get_graph_with_path HTTP/1.1\" 200 -\n",
      "127.0.0.1 - - [26/Jan/2024 19:26:26] \"POST /get_graph_with_path HTTP/1.1\" 200 -\n"
     ]
    },
    {
     "name": "stdout",
     "output_type": "stream",
     "text": [
      "There is no path between  96 and 196\n"
     ]
    },
    {
     "name": "stderr",
     "output_type": "stream",
     "text": [
      "127.0.0.1 - - [26/Jan/2024 19:27:01] \"OPTIONS /get_graph HTTP/1.1\" 200 -\n",
      "127.0.0.1 - - [26/Jan/2024 19:27:01] \"POST /get_graph HTTP/1.1\" 200 -\n",
      "127.0.0.1 - - [26/Jan/2024 19:27:11] \"OPTIONS /get_graph_with_path HTTP/1.1\" 200 -\n",
      "127.0.0.1 - - [26/Jan/2024 19:27:12] \"POST /get_graph_with_path HTTP/1.1\" 200 -\n"
     ]
    },
    {
     "name": "stdout",
     "output_type": "stream",
     "text": [
      "There is no path between  150 and 59\n"
     ]
    },
    {
     "name": "stderr",
     "output_type": "stream",
     "text": [
      "127.0.0.1 - - [26/Jan/2024 19:27:43] \"OPTIONS /get_graph HTTP/1.1\" 200 -\n",
      "127.0.0.1 - - [26/Jan/2024 19:27:43] \"POST /get_graph HTTP/1.1\" 200 -\n",
      "127.0.0.1 - - [26/Jan/2024 19:27:52] \"OPTIONS /get_graph_with_path HTTP/1.1\" 200 -\n",
      "127.0.0.1 - - [26/Jan/2024 19:27:52] \"POST /get_graph_with_path HTTP/1.1\" 200 -\n"
     ]
    },
    {
     "name": "stdout",
     "output_type": "stream",
     "text": [
      "There is no path between  139 and 116\n"
     ]
    },
    {
     "name": "stderr",
     "output_type": "stream",
     "text": [
      "127.0.0.1 - - [26/Jan/2024 19:28:47] \"OPTIONS /get_graph HTTP/1.1\" 200 -\n",
      "127.0.0.1 - - [26/Jan/2024 19:28:47] \"POST /get_graph HTTP/1.1\" 200 -\n",
      "127.0.0.1 - - [26/Jan/2024 19:28:57] \"OPTIONS /get_graph_with_path HTTP/1.1\" 200 -\n",
      "127.0.0.1 - - [26/Jan/2024 19:28:57] \"POST /get_graph_with_path HTTP/1.1\" 200 -\n"
     ]
    },
    {
     "name": "stdout",
     "output_type": "stream",
     "text": [
      "There is no path between  151 and 148\n"
     ]
    },
    {
     "name": "stderr",
     "output_type": "stream",
     "text": [
      "127.0.0.1 - - [26/Jan/2024 19:29:07] \"OPTIONS /get_graph_with_path HTTP/1.1\" 200 -\n",
      "127.0.0.1 - - [26/Jan/2024 19:29:08] \"POST /get_graph_with_path HTTP/1.1\" 200 -\n"
     ]
    },
    {
     "name": "stdout",
     "output_type": "stream",
     "text": [
      "############################################## Best path ##############################################\n",
      "[(151, 87), (87, 128), (128, 169), (169, 162)]\n",
      "Total distance :  25\n",
      "Total charge :  25\n"
     ]
    },
    {
     "name": "stderr",
     "output_type": "stream",
     "text": [
      "127.0.0.1 - - [26/Jan/2024 19:29:54] \"OPTIONS /get_graph HTTP/1.1\" 200 -\n",
      "127.0.0.1 - - [26/Jan/2024 19:29:55] \"POST /get_graph HTTP/1.1\" 200 -\n",
      "127.0.0.1 - - [26/Jan/2024 19:30:32] \"OPTIONS /get_graph HTTP/1.1\" 200 -\n",
      "127.0.0.1 - - [26/Jan/2024 19:30:32] \"POST /get_graph HTTP/1.1\" 200 -\n",
      "127.0.0.1 - - [26/Jan/2024 19:30:37] \"OPTIONS /get_graph_with_path HTTP/1.1\" 200 -\n",
      "127.0.0.1 - - [26/Jan/2024 19:30:59] \"POST /get_graph_with_path HTTP/1.1\" 200 -\n"
     ]
    },
    {
     "name": "stdout",
     "output_type": "stream",
     "text": [
      "############################################## Best path ##############################################\n",
      "[(1, 195), (195, 169), (169, 79), (79, 59), (59, 160), (160, 114), (114, 7), (7, 91), (91, 2)]\n",
      "Total distance :  25\n",
      "Total charge :  24\n"
     ]
    },
    {
     "name": "stderr",
     "output_type": "stream",
     "text": [
      "127.0.0.1 - - [26/Jan/2024 19:31:36] \"OPTIONS /get_graph HTTP/1.1\" 200 -\n",
      "127.0.0.1 - - [26/Jan/2024 19:31:36] \"POST /get_graph HTTP/1.1\" 200 -\n",
      "127.0.0.1 - - [26/Jan/2024 19:32:04] \"OPTIONS /get_graph HTTP/1.1\" 200 -\n",
      "127.0.0.1 - - [26/Jan/2024 19:32:05] \"POST /get_graph HTTP/1.1\" 200 -\n",
      "127.0.0.1 - - [26/Jan/2024 19:32:17] \"OPTIONS /get_graph_with_path HTTP/1.1\" 200 -\n"
     ]
    },
    {
     "name": "stdout",
     "output_type": "stream",
     "text": [
      "############################################## Best path ##############################################\n",
      "[(1, 353), (353, 52), (52, 648), (648, 799)]\n",
      "Total distance :  14\n",
      "Total charge :  5\n"
     ]
    },
    {
     "name": "stderr",
     "output_type": "stream",
     "text": [
      "127.0.0.1 - - [26/Jan/2024 19:32:48] \"POST /get_graph_with_path HTTP/1.1\" 200 -\n"
     ]
    }
   ],
   "source": [
    "if __name__ == '__main__':\n",
    "    app.run(port=5200)"
   ]
  },
  {
   "cell_type": "code",
   "execution_count": null,
   "id": "80b02697",
   "metadata": {},
   "outputs": [],
   "source": [
    "!python --version"
   ]
  },
  {
   "cell_type": "code",
   "execution_count": null,
   "id": "79a5d38c",
   "metadata": {},
   "outputs": [],
   "source": []
  },
  {
   "cell_type": "code",
   "execution_count": null,
   "id": "d018b800",
   "metadata": {},
   "outputs": [],
   "source": []
  },
  {
   "cell_type": "code",
   "execution_count": null,
   "id": "d68eee6a",
   "metadata": {},
   "outputs": [],
   "source": []
  }
 ],
 "metadata": {
  "kernelspec": {
   "display_name": "github_env",
   "language": "python",
   "name": "github_env"
  },
  "language_info": {
   "codemirror_mode": {
    "name": "ipython",
    "version": 3
   },
   "file_extension": ".py",
   "mimetype": "text/x-python",
   "name": "python",
   "nbconvert_exporter": "python",
   "pygments_lexer": "ipython3",
   "version": "3.10.9"
  }
 },
 "nbformat": 4,
 "nbformat_minor": 5
}
