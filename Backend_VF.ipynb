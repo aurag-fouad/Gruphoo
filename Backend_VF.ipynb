{
 "cells": [
  {
   "cell_type": "markdown",
   "id": "95453ff5",
   "metadata": {},
   "source": [
    "# 0- Installations des bibliothèques"
   ]
  },
  {
   "cell_type": "code",
   "execution_count": null,
   "id": "b75788b1",
   "metadata": {},
   "outputs": [],
   "source": [
    "!pip install flask\n",
    "!pip install plotly\n",
    "!pip install flask-cors\n",
    "!pip install networkx\n",
    "!pip install numpy"
   ]
  },
  {
   "cell_type": "markdown",
   "id": "d3c9825d",
   "metadata": {},
   "source": [
    "# 1- Importation des bibliotheque necessaire"
   ]
  },
  {
   "cell_type": "code",
   "execution_count": null,
   "id": "7c937433",
   "metadata": {
    "scrolled": true
   },
   "outputs": [],
   "source": [
    "from flask import Flask, request, jsonify, session \n",
    "import plotly.graph_objects as go #pour la visualisation des graphs.\n",
    "from flask_cors import CORS #pour facilite a gestion des requêtes CORS (Cross-Origin Resource Sharing).\n",
    "from itertools import combinations, groupby, islice  # pour travailler avec des itérations.\n",
    "import networkx as nx  #manipulation de graphes complexes.\n",
    "import random #pour la génération de nombres aléatoires.\n",
    "from math import gamma #pour les fonctions mathématiques\n",
    "import numpy as np #pour mnipulation de tableaux multidimensionnels.\n",
    "import csv #pour lecture/écriture de fichiers CSV.\n",
    "import threading # pour la gestion des threads.\n",
    "from concurrent.futures import ThreadPoolExecutor #pour exécution asynchrone avec des threads\n",
    "from multiprocessing import Manager #Pour la gestion des objets partagés entre processus.\n",
    "from time import time # pour  Mesuree le temps"
   ]
  },
  {
   "cell_type": "markdown",
   "id": "ddbc4063",
   "metadata": {},
   "source": [
    "#### on va utiliser flask comme un framework de backend "
   ]
  },
  {
   "cell_type": "code",
   "execution_count": null,
   "id": "5462c57a",
   "metadata": {
    "scrolled": true
   },
   "outputs": [],
   "source": [
    "app = Flask(__name__)#on va créer une instance de l'application Flask\n",
    "CORS(app) # activation du support CORS pour l'application Flask"
   ]
  },
  {
   "cell_type": "markdown",
   "id": "27a03161",
   "metadata": {},
   "source": [
    "# 2 - Génération d’un graphe\n"
   ]
  },
  {
   "cell_type": "markdown",
   "id": "2aa06cec",
   "metadata": {},
   "source": [
    "Premièrement, on va créer une fonction qui sera responsable de la génération du graphe dans notre projet.\n"
   ]
  },
  {
   "cell_type": "markdown",
   "id": "ee4493b5",
   "metadata": {},
   "source": [
    "Donc il faut tout d'abord définir la fonction qui génère les arêtes du graphe."
   ]
  },
  {
   "cell_type": "code",
   "execution_count": null,
   "id": "86c0a440",
   "metadata": {
    "scrolled": true
   },
   "outputs": [],
   "source": [
    "def generate_edges(startindex,endindex, n, p,G,pos):#cette fonction générer les arêtes du graphe.\n",
    "    #startindex et endindex : pour spécifier la plage d’indices\n",
    "    #n est le nombre total de noeuds\n",
    "    #p est la probabilité de connexion entre les noeuds\n",
    "    #pos est  les positions des noeuds\n",
    "    # G est le graph génèrer\n",
    "    for i in range(startindex,endindex):\n",
    "         for j in range(i+1, n):\n",
    "            distance = ((pos[i][0] - pos[j][0])**2 + (pos[i][1] - pos[j][1])**2)**0.5\n",
    "            if distance <= p:\n",
    "    #On utilise ici la fonction 'randint' du module 'random' pour générer aléatoirement des valeurs de distance et de charge pour les arêtes nouvellement créées.\n",
    "                G.add_edge(i, j, distance=random.randint(1, 10), charge=random.randint(1, 10))\n",
    "                \n"
   ]
  },
  {
   "cell_type": "markdown",
   "id": "8d0613ef",
   "metadata": {},
   "source": [
    "Alors, concernant la génération du graphe(aléatoire non orienté), pour accélérer le processus, on va utiliser des threads."
   ]
  },
  {
   "cell_type": "markdown",
   "id": "6a5f98e8",
   "metadata": {},
   "source": [
    "chaque thread est responsable d’une tranche de 100 noeuds (on peut la modifier en fonction de nos besoins)"
   ]
  },
  {
   "cell_type": "code",
   "execution_count": null,
   "id": "3d83be81",
   "metadata": {},
   "outputs": [],
   "source": [
    "def generate_random_graph_with_threads(n, p,nodes_per_thread=100):\n",
    "\n",
    "    G = nx.Graph()#crée un objet de graphe à l'aide de la bibliothèque NetworkX\n",
    "    G.add_nodes_from(range(n))#ajoute des nœuds au graphe G \n",
    "    pos = {node: (random.random(), random.random()) for node in range(n)}\n",
    "    nx.set_node_attributes(G, pos, 'pos')#cette methode de NetworkX permet d'attribuer  les positions  générées aux nœuds du graphe G\n",
    "    if p <= 0:\n",
    "        return G\n",
    "    if p > 1:\n",
    "        return nx.complete_graph(n, create_using=G)# cette fonction du module NetworkX pour créer un graphe complet non orienté avec n nœuds, en utilisant le graphe G\n",
    "    \n",
    "    # calcul du nombre de threads nécessaires\n",
    "    nbth = n // nodes_per_thread\n",
    "    if nbth == 0:\n",
    "        nbth = 1\n",
    "    # créer des threads pour générer les arêtes du graphe\n",
    "    threads = []\n",
    "    for i in range(nbth):\n",
    "        startindex = i * nodes_per_thread\n",
    "        endindex = startindex + nodes_per_thread\n",
    "        if i == nbth - 1:\n",
    "            endindex = n\n",
    "        \n",
    "        th = threading.Thread(target=generate_edges, args=(startindex,endindex, n, p,G,pos))#Pour créer une instance du module threading et exécuter la fonction generate_edges en parallèle.\n",
    "        th.start()\n",
    "        threads.append(th)\n",
    "    # attente de la fin de tous les threads\n",
    "    for th in threads:\n",
    "        th.join()\n",
    "        \n",
    "    return G"
   ]
  },
  {
   "cell_type": "markdown",
   "id": "cb4024a4",
   "metadata": {},
   "source": [
    "# 3 - Visualisation du graphe\n"
   ]
  },
  {
   "cell_type": "markdown",
   "id": "9173faa7",
   "metadata": {},
   "source": [
    "Maintenant, après la génération du graphe, nous avons besoin d'une fonction qui visualise ce graphe."
   ]
  },
  {
   "cell_type": "code",
   "execution_count": null,
   "id": "7845a026",
   "metadata": {
    "scrolled": true
   },
   "outputs": [],
   "source": [
    "def get_fig(G):\n",
    "     #des listes pour les coordonnées des arêtes\n",
    "    edge_x = []\n",
    "    edge_y = []\n",
    "    # parcours des arêtes du graphe\n",
    "    for edge in G.edges():\n",
    "        x0, y0 = G.nodes[edge[0]]['pos']\n",
    "        x1, y1 = G.nodes[edge[1]]['pos']\n",
    "        edge_x.append(x0)\n",
    "        edge_x.append(x1)\n",
    "        edge_x.append(None)\n",
    "        edge_y.append(y0)\n",
    "        edge_y.append(y1)\n",
    "        edge_y.append(None)\n",
    "# définition de la trace pour les arêtes du graphe\n",
    "    edge_trace = {\n",
    "        'x': edge_x,\n",
    "        'y': edge_y,\n",
    "        'line': {'width': 0.5, 'color': '#888'},\n",
    "        'hoverinfo': 'none',\n",
    "        'mode': 'lines'\n",
    "    }\n",
    " # création des listes pour les coordonnées des nœuds\n",
    "    node_x = []\n",
    "    node_y = []\n",
    "    for node in G.nodes():#on utilise la méthode nodes() de NetworkXest  pour itérer sur tous les nœuds du graphe G  pour la visualisation du graphe\n",
    "        x, y = G.nodes[node]['pos']\n",
    "        node_x.append(x)\n",
    "        node_y.append(y)\n",
    "# la trace pour les nœuds du graphe\n",
    "    node_trace = {\n",
    "        'x': node_x,\n",
    "        'y': node_y,\n",
    "        'mode': 'markers',\n",
    "        'hoverinfo': 'text',\n",
    "        'marker': {\n",
    "            'showscale': True,\n",
    "            'colorscale': 'YlGnBu',\n",
    "            'reversescale': True,\n",
    "            'color': [],\n",
    "            'size': 10,\n",
    "            'colorbar': {\n",
    "                'thickness': 15,\n",
    "                'title': 'Node Connections',\n",
    "                'xanchor': 'left',\n",
    "                'titleside': 'right'\n",
    "            },\n",
    "            'line_width': 2\n",
    "        }\n",
    "    }\n",
    " # calcul des adjacences(d'arêtes connectées à ce nœud) et du texte pour chaque nœud\n",
    "    node_adjacencies = []\n",
    "    node_text = []\n",
    "    i=0\n",
    "    for node, adjacencies in enumerate(G.adjacency()):\n",
    "        node_adjacencies.append(len(adjacencies[1]))\n",
    "        node_text.append('Node Id: '+str(i)+' is of connections: ' + str(len(adjacencies[1])))\n",
    "        i+= 1\n",
    "    # attribution des valeurs calculées aux propriétés de la trace des nœuds\n",
    "\n",
    "    node_trace['marker']['color'] = node_adjacencies\n",
    "    node_trace['text'] = node_text\n",
    "\n",
    "    # la mise en page de la visualisation\n",
    "    layout = {\n",
    "        'title': '<br>The Graph Generated',\n",
    "        'titlefont_size': 16,\n",
    "        'showlegend': False,\n",
    "        'hovermode': 'closest',\n",
    "        'margin': {'b': 20, 'l': 5, 'r': 5, 't': 40},\n",
    "        'annotations': [\n",
    "            {'text': \"Choose your Source and Destination then click on Graph Navigator to find the optimal path for them\",\n",
    "             'showarrow': False,\n",
    "             'xref': \"paper\", 'yref': \"paper\",\n",
    "             'x': 0.005, 'y': -0.002}\n",
    "        ],\n",
    "        'xaxis': {'showgrid': False, 'zeroline': False, 'showticklabels': False},\n",
    "        'yaxis': {'showgrid': False, 'zeroline': False, 'showticklabels': False}\n",
    "    }\n",
    "\n",
    "    return {\"edge_trace\": edge_trace,\"node_trace\": node_trace, \"layout\": layout}"
   ]
  },
  {
   "cell_type": "markdown",
   "id": "fbf2f943",
   "metadata": {},
   "source": [
    "Ensuite, on définit cette fonction pour la visualisation du graphe avec un chemin spécifié, afin de visualiser le graphe avec le meilleur chemin"
   ]
  },
  {
   "cell_type": "code",
   "execution_count": null,
   "id": "04fbfe82",
   "metadata": {
    "scrolled": true
   },
   "outputs": [],
   "source": [
    "def get_fig_with_path(G, best_path_text, best_path_info, path=[]):\n",
    "   # création des listes pour les coordonnées des arêtes\n",
    "    edge_x = []\n",
    "    edge_y = []\n",
    "    # parcours des arêtes du graphe\n",
    "    for edge in G.edges():\n",
    "        x0, y0 = G.nodes[edge[0]]['pos']\n",
    "        x1, y1 = G.nodes[edge[1]]['pos']\n",
    "        edge_x.append(x0)\n",
    "        edge_x.append(x1)\n",
    "        edge_x.append(None)\n",
    "        edge_y.append(y0)\n",
    "        edge_y.append(y1)\n",
    "        edge_y.append(None)\n",
    " # la trace pour les arêtes du graphe\n",
    "    edge_trace = {\n",
    "            'x': edge_x,\n",
    "            'y': edge_y,\n",
    "            'line': {'width': 0.5, 'color': '#888'},\n",
    "            'hoverinfo': 'none',\n",
    "            'mode': 'lines'\n",
    "        }\n",
    "\n",
    "    # on va séparer les arêtes en fonction de leur appartenance ou non au chemin.\n",
    "    edge_sets = [path, list(set(G.edges()) - set(path))]\n",
    "    colors = ['#ff0000', '#888']  # couleur pour les arêtes dans le chemin et couleur par défaut\n",
    "\n",
    "    edge_traces = []\n",
    "    for edge_set, c in zip(edge_sets, colors):\n",
    "        edge_x = []\n",
    "        edge_y = []\n",
    "        for edge in edge_set:\n",
    "            x0, y0 = G.nodes[edge[0]]['pos']\n",
    "            x1, y1 = G.nodes[edge[1]]['pos']\n",
    "            edge_x.append(x0)\n",
    "            edge_x.append(x1)\n",
    "            edge_x.append(None)\n",
    "            edge_y.append(y0)\n",
    "            edge_y.append(y1)\n",
    "            edge_y.append(None)\n",
    "\n",
    "        # la trace pour les arêtes spécifiques au chemin ou non\n",
    "        edge_traces.append({\n",
    "            'x': edge_x, \n",
    "            'y': edge_y,\n",
    "            'line':  {'width':0.5, 'color':c},\n",
    "            'hoverinfo': 'none',\n",
    "            'mode': 'lines'})\n",
    "        \n",
    "    # des listes pour les coordonnées des nœuds\n",
    "    node_x = []\n",
    "    node_y = []\n",
    "    for node in G.nodes():\n",
    "        x, y = G.nodes[node]['pos']\n",
    "        node_x.append(x)\n",
    "        node_y.append(y)\n",
    "\n",
    "    # la trace pour les nœuds du graphe\n",
    "    node_trace = {\n",
    "        'x': node_x,\n",
    "        'y': node_y,\n",
    "        'mode': 'markers',\n",
    "        'hoverinfo': 'text',\n",
    "        'marker': {\n",
    "            'showscale': True,\n",
    "            'colorscale': 'YlGnBu',\n",
    "            'reversescale': True,\n",
    "            'color': [],\n",
    "            'size': 10,\n",
    "            'colorbar': {\n",
    "                'thickness': 15,\n",
    "                'title': 'Node Connections',\n",
    "                'xanchor': 'left',\n",
    "                'titleside': 'right'\n",
    "            },\n",
    "            'line_width': 2\n",
    "        }\n",
    "    }\n",
    "\n",
    "    # calcul des adjacences et du texte pour chaque nœud\n",
    "    node_adjacencies = []\n",
    "    node_text = []\n",
    "    i = 0\n",
    "    for node, adjacencies in enumerate(G.adjacency()):\n",
    "        node_adjacencies.append(len(adjacencies[1]))\n",
    "        node_text.append('Node Id: '+str(i)+' is of connections: ' + str(len(adjacencies[1])))\n",
    "        i += 1\n",
    "\n",
    "    # attribution des valeurs calculées aux propriétés de la trace des nœuds\n",
    "    node_trace['marker']['color'] = node_adjacencies\n",
    "    node_trace['text'] = node_text    \n",
    "    # définition du layout de la visualisation\n",
    "    layout = {\n",
    "        'title': best_path_info,\n",
    "        'titlefont_size': 16,\n",
    "        'showlegend': False,\n",
    "        'hovermode': 'closest',\n",
    "        'margin': {'b': 20, 'l': 5, 'r': 5, 't': 40},\n",
    "        'annotations': [\n",
    "            {'text': best_path_text,\n",
    "             'showarrow': False,\n",
    "             'xref': \"paper\", 'yref': \"paper\",\n",
    "             'x': 0.005, 'y': -0.002}\n",
    "        ],\n",
    "        'xaxis': {'showgrid': False, 'zeroline': False, 'showticklabels': False},\n",
    "        'yaxis': {'showgrid': False, 'zeroline': False, 'showticklabels': False}\n",
    "    }\n",
    "\n",
    "    return {\"data\": edge_traces + [node_trace], \"layout\": layout}"
   ]
  },
  {
   "cell_type": "markdown",
   "id": "b92faa99",
   "metadata": {},
   "source": [
    "# 4 - Normalisation du graphe\n"
   ]
  },
  {
   "cell_type": "markdown",
   "id": "9738530b",
   "metadata": {},
   "source": [
    "Alors, on a besoin de normaliser ce graphe, c'est-à-dire que l'on doit normaliser les charges et distances dans l'intervalle [0,1],en utilisant les threads."
   ]
  },
  {
   "cell_type": "code",
   "execution_count": null,
   "id": "2370e61f",
   "metadata": {
    "scrolled": true
   },
   "outputs": [],
   "source": [
    "def find_max_distance(edges):#on cherche la distance maximale parmi les arêtes du graphe.\n",
    "    if not edges:\n",
    "        return 0\n",
    "    max_distance = max(data['distance'] for _, _, data in edges)\n",
    "    return max_distance\n",
    "\n",
    "def find_max_charge(edges):#on cherche la charge maximale parmi les arêtes du graphe.\n",
    "    if not edges:\n",
    "        return 0\n",
    "    max_charge = max(data['charge'] for _, _, data in edges)\n",
    "    return max_charge\n",
    "\n",
    "def normalized_graph_edges(list_of_edges , max_distance , max_charge , startindex , endindex):\n",
    "    #normalise les attributs des arêtes du graphe entre startindex et endindex\n",
    "    for i in range(startindex , endindex):\n",
    "        list_of_edges[i][2]['distance'] = round(list_of_edges[i][2]['distance'] / max_distance, 4)#la fonction round()our arrondir à 4 chiffres après la virgule le résultat de la division\n",
    "        list_of_edges[i][2]['charge'] = round(list_of_edges[i][2]['charge'] / max_charge, 4)\n",
    "    \n",
    "def normalize_graph_attributes(G,edges_per_thread=150 ):# normalise les attributs des arêtes du graphe avec des threads.\n",
    "    normalized_graph = G.copy()#pour créer une copie indépendante du graphe G , pour normaliser les attributs des arêtes du graphe sans modifier le graphe d'origine.\n",
    "    \n",
    "    with ThreadPoolExecutor() as executor:#est une classe de concurrent.futures , permettant l'exécution simultanée via un pool de threads.\n",
    "        future_distances = executor.submit(find_max_distance, G.edges(data=True))\n",
    "        future_charges = executor.submit(find_max_charge, G.edges(data=True))\n",
    "    \n",
    "     # récupération des résultats\n",
    "    max_distance = future_distances.result()\n",
    "    max_charge = future_charges.result()\n",
    "    \n",
    "    list_of_edges = list(normalized_graph.edges(data=True))  # liste des arêtes du graphe normalisé\n",
    "    \n",
    "    # on calcul du nombre d'arêtes et du nombre de threads nécessaires\n",
    "    num_edges = len(list_of_edges)    \n",
    "    nbth = num_edges // edges_per_thread \n",
    "    if nbth == 0:\n",
    "        nbth = 1\n",
    "\n",
    "    # Création et démarrage des threads pour la normalisation\n",
    "    threads = []\n",
    "    for i in range(nbth):\n",
    "        \n",
    "        startindex = i * edges_per_thread \n",
    "        endindex = startindex + edges_per_thread \n",
    "        if i == nbth - 1:\n",
    "            endindex = num_edges\n",
    "        th = threading.Thread(target=normalized_graph_edges, args=(list_of_edges , max_distance , max_charge,\n",
    "                                                                   startindex,endindex))\n",
    "        th.start()\n",
    "        threads.append(th)\n",
    "\n",
    "    # on va attendre que tous les threads aient terminé \n",
    "    for th in threads:\n",
    "        th.join()\n",
    "        \n",
    "    #création d'un nouveau graphe normalisé à partir de la liste des arêtes    \n",
    "    new_normalized_graph = nx.Graph()    \n",
    "    new_normalized_graph.add_edges_from(list_of_edges)\n",
    "    return new_normalized_graph  "
   ]
  },
  {
   "cell_type": "markdown",
   "id": "d8b4072e",
   "metadata": {},
   "source": [
    "# 5 - Enregistrement des informations du graphe\n"
   ]
  },
  {
   "cell_type": "markdown",
   "id": "3e5cb3f0",
   "metadata": {},
   "source": [
    "Ensuite,on va sauvegarder les informations(source,target,distance,charge) sous forme de fichier CSV ,en utilisant les threads.\n"
   ]
  },
  {
   "cell_type": "markdown",
   "id": "b9578721",
   "metadata": {},
   "source": [
    "Chaque thread écrire une partie des informations du graphe dans le fichier CSV"
   ]
  },
  {
   "cell_type": "code",
   "execution_count": null,
   "id": "8a0122c5",
   "metadata": {
    "scrolled": true
   },
   "outputs": [],
   "source": [
    "def write_edge_info(list_of_edges , writer,startindex,endindex):# cette fonction pour écrire les informations sur les arêtes dans un fichier CSV.\n",
    "    for i in range(startindex,endindex):\n",
    "        writer.writerow({'source': list_of_edges[i][0], 'target': list_of_edges[i][1], \n",
    "                         'distance': list_of_edges[i][2]['distance'], 'charge': list_of_edges[i][2]['charge']})\n",
    "    \n",
    "def save_graph_info(G,edges_per_thread=150 ):#on va sauvegarder les informations sur les arêtes du graphe dans un fichier CSV.\n",
    "    edges_file = \"graph_info.csv\"#nom du fichier CSV\n",
    "    with open(edges_file, 'w', newline='') as csvfile: # ouverir du fichier CSV en mode écriture\n",
    "        fieldnames = ['source', 'target', 'distance', 'charge'] # on adéfinir des noms de colonnes dans le fichier CSV\n",
    "        writer = csv.DictWriter(csvfile, fieldnames=fieldnames) # on a créer l'objet DictWriter pour écrire dans le fichier CSV\n",
    "        writer.writeheader() # écriture de l'en-tête du fichier CSV       \n",
    "        list_of_edges = list(G.edges(data=True)) # pour récupérer la liste des arêtes du graphe avec leurs données\n",
    "        num_edges = len(list_of_edges) # pour calculer du nombre total d'arêtes dans le graphe\n",
    "        \n",
    "        # on va calculer le nombre de threads nécessaires \n",
    "        nbth = num_edges // edges_per_thread \n",
    "        if nbth == 0:\n",
    "            nbth = 1\n",
    "        threads = []  # liste pour stocker les threads\n",
    "\n",
    "        # création et démarrage des threads pour écrire les sections d'arêtes dans le fichier CSV\n",
    "        for i in range(nbth):\n",
    "            startindex = i * edges_per_thread \n",
    "            endindex = startindex + edges_per_thread \n",
    "            if i == nbth - 1:\n",
    "                endindex = num_edges\n",
    "            # on créer d'un thread qui utilise la fonction write_edge_info\n",
    "            th = threading.Thread(target=write_edge_info, args=(list_of_edges , writer,startindex,endindex))\n",
    "            th.start()\n",
    "            threads.append(th)\n",
    "\n",
    "        # on va attendre que tous les threads aient terminé \n",
    "        for th in threads:\n",
    "            th.join()"
   ]
  },
  {
   "cell_type": "markdown",
   "id": "94e08b54",
   "metadata": {},
   "source": [
    "# 6 -  Algorithme de recherche du coucou\n",
    "\n"
   ]
  },
  {
   "cell_type": "markdown",
   "id": "07998ea4",
   "metadata": {},
   "source": [
    "Alors, maintenant, pour trouver un chemin plus court ou bien le chemin optimal, on applique l'algorithme de recherche du coucou"
   ]
  },
  {
   "cell_type": "code",
   "execution_count": null,
   "id": "255b6e09",
   "metadata": {
    "scrolled": true
   },
   "outputs": [],
   "source": [
    "def calculate_total_distance(graph, path):#calcule la distance totale le long du path\n",
    "        #source_node est source\n",
    "        #target_node est distination \n",
    "        total_distance = 0\n",
    "        for i in range(len(path) - 1):\n",
    "            source_node = path[i]\n",
    "            target_node = path[i + 1]\n",
    "            total_distance += graph[source_node][target_node]['distance']\n",
    "        \n",
    "        return total_distance \n",
    "                             \n",
    "def calculate_total_charge(graph, path):#calcule la charge totale le long du path\n",
    "        total_charge = 0\n",
    "        for i in range(len(path) - 1):\n",
    "            source_node = path[i]\n",
    "            target_node = path[i + 1]\n",
    "            total_charge += graph[source_node][target_node]['charge']\n",
    "        \n",
    "        return total_charge \n",
    "                             \n",
    "\n",
    "def evaluate_fitness(graph, path):#évalue la forme physique d'un chemin dans le graphe.\n",
    "    \n",
    "    with ThreadPoolExecutor() as executor:\n",
    "        future_distances = executor.submit(calculate_total_distance, graph,path)\n",
    "        future_charges = executor.submit(calculate_total_charge, graph,path)\n",
    "  \n",
    "    total_distance  = future_distances.result()\n",
    "    total_charge = future_charges.result()                                    \n",
    "    return total_distance + total_charge\n",
    "\n",
    "\n",
    "def k_shortest_paths(G, source, target, k, weight=None):#pour trouve les k plus courts chemins entre la source et la cible dans le graphe.\n",
    "    try :\n",
    "        return list(\n",
    "        islice(nx.shortest_simple_paths(G, source, target, weight=weight), k)\n",
    "        )\n",
    "    except nx.NetworkXNoPath: #si aucun chemin n'existe\n",
    "            return [()]  \n",
    "\n",
    "def cuckoo_generation(graph,population,not_used_population,n,Pa,shared_best_paths,startindex,endindex):# Génère une nouvelle population d'oiseaux coucous.\n",
    "    for i in range(startindex , endindex) :\n",
    "\n",
    "        # évaluer fitness pour chaque chemin de coucou.\n",
    "        fitness_list = [evaluate_fitness(graph, path) for path in population]\n",
    "\n",
    "        # trouver l'indice du meilleur coucou\n",
    "        best_cuckoo_index = np.argmin(fitness_list)\n",
    "        best_path = population[best_cuckoo_index]\n",
    "        best_fitness = fitness_list[best_cuckoo_index]\n",
    "\n",
    "            \n",
    "        if not_used_population :\n",
    "            # ici nous allons générer une nouvelle solution de coucou (œuf)\n",
    "            new_cuckoo = random.choice(not_used_population)\n",
    "            \n",
    "            #on va calculer fitness de la nouvelle solution\n",
    "            new_cuckoo_fitness = evaluate_fitness(graph, new_cuckoo)\n",
    "            \n",
    "            # choisissez un nid au hasard (un nid étant une solution possible sélectionnée au hasard dans la population).\n",
    "            random_nest_index = random.randint(0, n - 1)\n",
    "\n",
    "            # compare la valeur fitness entre le nouvel œuf coucou et celui choisi aléatoirement dans le nid, puis remplace la solution si la nouvelle est meilleure.\n",
    "            if new_cuckoo_fitness < fitness_list[random_nest_index]:\n",
    "                population[random_nest_index] = new_cuckoo\n",
    "                not_used_population.remove(new_cuckoo)\n",
    "\n",
    "            # au cas où le nombre d'œufs dans le nid augmente, abandonnez une fraction Pa des pires nids. Cela vise à imiter le fait qu'il existe une probabilité Pa pour que l'oiseau hôte découvre l'œuf du coucou.\n",
    "            if len(population) > n:\n",
    "                num_to_abandon = int(Pa * n)\n",
    "                indices_to_abandon = np.argpartition(fitness_list, num_to_abandon)[:num_to_abandon]\n",
    "                for index in indices_to_abandon:\n",
    "                    population[index] = random.choice(not_used_population)\n",
    "                    \n",
    "        # mettre à jour la valeur de la liste partagée avec le dernier meilleur chemin\n",
    "        shared_best_paths[0] = best_path\n",
    "\n",
    "def cuckoo_search(graph, source, target, population_size=50, generations=300, Pa=0.25,iterations_per_thread=100):\n",
    "    \n",
    "    start_time = time ()\n",
    "\n",
    "    # nbr de solution avec laquelle nous allons travailler\n",
    "    n = population_size\n",
    "    max_iterations = generations\n",
    "    # le nombre de solutions que nous utiliserons\n",
    "    nbr_population = generations * 3\n",
    "\n",
    "    all_population = k_shortest_paths(G, source, target, nbr_population)\n",
    "    if( all_population == [()]):\n",
    "        end_time = time()\n",
    "        return [()],[] , end_time-start_time\n",
    "\n",
    "\n",
    "    # nous travaillerons avec 50 solutions possibles\n",
    "    population = all_population[:n]\n",
    "    # le reste des solutions possibles, nous travaillerons avec eux en générant de nouvelles solutions à partir d'eux.\n",
    "    not_used_population = all_population[n:]\n",
    "\n",
    "    best_path = None\n",
    "    best_fitness = float('-inf')\n",
    "\n",
    "    threads = []\n",
    "    manager = Manager()\n",
    "    shared_best_paths = manager.list([None])\n",
    "    \n",
    "    nbth = max_iterations // iterations_per_thread\n",
    "    if nbth == 0:\n",
    "        nbth = 1\n",
    "    for i in range(nbth):\n",
    "        \n",
    "        startindex = i * iterations_per_thread\n",
    "        endindex = startindex + iterations_per_thread\n",
    "        if i == nbth - 1:\n",
    "            endindex = max_iterations\n",
    "        th = threading.Thread(target=cuckoo_generation, args=(graph,population,not_used_population,n,Pa,shared_best_paths,\n",
    "                                                             startindex , endindex))\n",
    "        th.start()\n",
    "        threads.append(th)\n",
    "        \n",
    "    for th in threads:\n",
    "        th.join()\n",
    "        \n",
    "    #obtenir le dernier best_path trouvé\n",
    "    best_path = shared_best_paths[0]   \n",
    "\n",
    "    # convertir le meilleur chemin en une liste de tuples de bord\n",
    "    best_path_edges = [(best_path[i], best_path[i + 1]) for i in range(len(best_path) - 1)]\n",
    "    \n",
    "    end_time = time()\n",
    "    execution_time = end_time-start_time\n",
    "    return best_path_edges , best_path , execution_time"
   ]
  },
  {
   "cell_type": "markdown",
   "id": "d3f8f57d",
   "metadata": {},
   "source": [
    "# 7 -  Configuration des threads\n"
   ]
  },
  {
   "cell_type": "markdown",
   "id": "2cae1112",
   "metadata": {},
   "source": [
    "Il ne nous reste plus qu'à configurer les paramètres pour les threads"
   ]
  },
  {
   "cell_type": "code",
   "execution_count": null,
   "id": "369afa58",
   "metadata": {
    "scrolled": true
   },
   "outputs": [],
   "source": [
    "# le nombre de nœuds par thread à 100\n",
    "nodes_per_thread = 100\n",
    "# le nombre d'arêtes par thread à 200\n",
    "edges_per_thread = 200\n",
    "# le nombre d'itérations par thread à 100\n",
    "iterations_per_thread = 100\n",
    "# la probabilité de connexion des nœuds\n",
    "probability = 0.1\n",
    "\n",
    "G = None"
   ]
  },
  {
   "cell_type": "markdown",
   "id": "68d85a76",
   "metadata": {},
   "source": [
    "On initialise de l'API pour générer un graphe aléatoire"
   ]
  },
  {
   "cell_type": "code",
   "execution_count": null,
   "id": "b2235530",
   "metadata": {},
   "outputs": [],
   "source": [
    "@app.route('/get_graph', methods=['POST'])\n",
    "def get_graph_api():\n",
    "    \n",
    "    data = request.get_json()# extraire les données JSON .\n",
    "    nodes = int(data)# convertir le nombre de nœuds en entier.\n",
    "    global G\n",
    "    G = generate_random_graph_with_threads(nodes, probability)# générer un graphe aléatoire avec des threads.\n",
    "    fig_data = get_fig(G)# obtenir les données de la figure pour le graphe généré\n",
    "\n",
    "    return jsonify(fig_data) # renvoyer les données de la figure en tant que réponse JSON.\n"
   ]
  },
  {
   "cell_type": "markdown",
   "id": "6e14a0c6",
   "metadata": {},
   "source": [
    "Enfin, pour obtenir un graphe avec le meilleur chemin trouvé par l'algorithme coucou ,on initialise de l'API Flask"
   ]
  },
  {
   "cell_type": "code",
   "execution_count": null,
   "id": "e3853b18",
   "metadata": {
    "scrolled": true
   },
   "outputs": [],
   "source": [
    "@app.route('/get_graph_with_path', methods=['POST'])\n",
    "def get_graph_path_api():# API pour obtenir un graphe avec le meilleur chemin trouvé par l'algorithme coucou.\n",
    "    \n",
    "    data = request.get_json()  # extraire les données JSON de la requête.  \n",
    "    source = data.get('source', None) # obtenir le nœud source des données.\n",
    "    destination = data.get('destination', None)# obtenir le nœud de destination des données.\n",
    "\n",
    "    if source is not None and destination is not None:\n",
    "        source_node = int(source) # convertir la source en entier.\n",
    "        target_node = int(destination) # convertir la destination en entier.      \n",
    "        global G\n",
    "        # si le graphe n'a pas encore été généré\n",
    "        if G == None:\n",
    "            return jsonify({\"path_exist\": 0, \"path_data\": \"Please generate a graph first!!\"})\n",
    "        \n",
    "        # normaliser les attributs du graphe G\n",
    "        normlized_graph = normalize_graph_attributes(G) \n",
    "\n",
    "        # on applique l'algorithme coucou pour trouver le meilleur chemin\n",
    "        best_pathtuple ,best_path , execution_time = cuckoo_search(normlized_graph, source_node, target_node,iterations_per_thread)\n",
    "        \n",
    "        if(best_path != []):\n",
    "            print(\"############################################## Best path ##############################################\")\n",
    "            print(best_pathtuple)\n",
    "            # on calcule la distance totale et la charge totale du meilleur chemin\n",
    "            total_distance = calculate_total_distance(G, best_path)\n",
    "            total_charge = calculate_total_charge(G, best_path)\n",
    "            print(\"Total distance : \", total_distance)\n",
    "            print(\"Total charge : \", total_charge)\n",
    "            best_path_text = f'<br>Best Path from Node ID: {source_node} to Node ID: {target_node} is {best_path}. Total distance is = {total_distance} and consumed charge is = {total_charge}.'\n",
    "            best_path_info = f'Execution Time of the Algorithm is: {execution_time:.4f} seconds.'\n",
    "\n",
    "            # Obtenir les données pour le graphe avec le meilleur chemin\n",
    "            fig_data_with_path = get_fig_with_path(G, best_path_text, best_path_info, best_pathtuple)\n",
    "\n",
    "            return jsonify({\"path_exist\": 1, \"path_data\": fig_data_with_path})\n",
    "        else :\n",
    "            #si aucune arête entre la source et la destination\n",
    "            no_path_message = f'There is no path between  {source_node} and {target_node}'\n",
    "            print(no_path_message)\n",
    "            return jsonify({\"path_exist\": 0, \"path_data\": no_path_message})\n",
    "            #pour l'affichage de temps d'exécution\n",
    "        print(\"The execution time of the research phase is {:.4f} seconds\".format(execution_time))\n",
    "        \n",
    "    else:\n",
    "        #si la source et la destination ne sont pas fournies en tant qu'entiers.\n",
    "        return jsonify({'error': 'Source and destination must be provided as integers.'}), 400"
   ]
  },
  {
   "cell_type": "code",
   "execution_count": null,
   "id": "ae345adb",
   "metadata": {
    "scrolled": true
   },
   "outputs": [],
   "source": [
    "# Le serveur de Backend va utiliser le port 5200 pour recevoir les requêtes HTTP envoyées par notre application web\n",
    "if __name__ == '__main__':\n",
    "    app.run(port=5200)"
   ]
  }
 ],
 "metadata": {
  "kernelspec": {
   "display_name": "Python 3 (ipykernel)",
   "language": "python",
   "name": "python3"
  },
  "language_info": {
   "codemirror_mode": {
    "name": "ipython",
    "version": 3
   },
   "file_extension": ".py",
   "mimetype": "text/x-python",
   "name": "python",
   "nbconvert_exporter": "python",
   "pygments_lexer": "ipython3",
   "version": "3.12.1"
  }
 },
 "nbformat": 4,
 "nbformat_minor": 5
}
